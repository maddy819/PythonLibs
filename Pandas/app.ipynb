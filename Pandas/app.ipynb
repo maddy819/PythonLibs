{
 "cells": [
  {
   "cell_type": "code",
   "execution_count": 1,
   "id": "3384bf8d",
   "metadata": {},
   "outputs": [],
   "source": [
    "import pandas as pd\n",
    "import numpy as np"
   ]
  },
  {
   "cell_type": "code",
   "execution_count": 13,
   "id": "3724aeec",
   "metadata": {},
   "outputs": [
    {
     "name": "stdout",
     "output_type": "stream",
     "text": [
      "1d array: [ 1  2  3  4  5  6  7  8  9 10 11 12 13 14 15 16 17 18 19 20]\n",
      "\n",
      " 2d array: [[ 1  2  3  4]\n",
      " [ 5  6  7  8]\n",
      " [ 9 10 11 12]\n",
      " [13 14 15 16]\n",
      " [17 18 19 20]]\n",
      "\n",
      " DataFrame:     A   B   C   D\n",
      "0   1   2   3   4\n",
      "1   5   6   7   8\n",
      "2   9  10  11  12\n",
      "3  13  14  15  16\n",
      "4  17  18  19  20\n"
     ]
    }
   ],
   "source": [
    "# Generating basic DataFrame\n",
    "data = np.arange(1, 21)\n",
    "print(\"1d array:\", data)\n",
    "\n",
    "reshaped_data = data.reshape(5, 4)\n",
    "print(\"\\n 2d array:\", reshaped_data)\n",
    "\n",
    "df = pd.DataFrame(reshaped_data, columns=['A', 'B', 'C', 'D'])\n",
    "print(\"\\n DataFrame:\", df)\n"
   ]
  },
  {
   "cell_type": "code",
   "execution_count": 14,
   "id": "bd73bbfb",
   "metadata": {},
   "outputs": [
    {
     "name": "stdout",
     "output_type": "stream",
     "text": [
      "DataFrame:           A         B\n",
      "0  0.729288  0.350330\n",
      "1  0.198970  0.181211\n",
      "2  0.158525  0.108594\n",
      "3  0.853634  0.283908\n",
      "4  0.436089  0.668207\n"
     ]
    }
   ],
   "source": [
    "# Generating random DataFrame\n",
    "df = pd.DataFrame({\n",
    "    'A': np.random.rand(5),\n",
    "    'B': np.random.rand(5)\n",
    "})\n",
    "\n",
    "print(\"DataFrame:\", df)"
   ]
  },
  {
   "cell_type": "code",
   "execution_count": 15,
   "id": "4445bb5c",
   "metadata": {},
   "outputs": [
    {
     "name": "stdout",
     "output_type": "stream",
     "text": [
      "      Column1  Column2  Column3  Column4\n",
      "Row1        1        2        3        4\n",
      "Row2        5        6        7        8\n",
      "Row3        9       10       11       12\n",
      "Row4       13       14       15       16\n",
      "Row5       17       18       19       20\n"
     ]
    }
   ],
   "source": [
    "# with rows and columns names\n",
    "data = np.arange(1, 21)\n",
    "reshaped_data = data.reshape(5, 4)\n",
    "df = pd.DataFrame(reshaped_data, index=['Row1', 'Row2', 'Row3', 'Row4', 'Row5'], columns=['Column1', 'Column2', 'Column3', 'Column4'])\n",
    "print(df)\n"
   ]
  },
  {
   "cell_type": "code",
   "execution_count": 16,
   "id": "d4af5438",
   "metadata": {},
   "outputs": [
    {
     "name": "stdout",
     "output_type": "stream",
     "text": [
      "\n",
      "Top n rows:\n",
      "       Column1  Column2  Column3  Column4\n",
      "Row1        1        2        3        4\n",
      "Row2        5        6        7        8\n",
      "Row3        9       10       11       12\n"
     ]
    }
   ],
   "source": [
    "# Get top 5 rows\n",
    "# if n is empty it will return the first 5 rows\n",
    "n = 3\n",
    "top_rows = df.head(n)\n",
    "print(\"\\nTop n rows:\\n\", top_rows)"
   ]
  },
  {
   "cell_type": "code",
   "execution_count": 17,
   "id": "1458c307",
   "metadata": {},
   "outputs": [
    {
     "name": "stdout",
     "output_type": "stream",
     "text": [
      "\n",
      "Bottom n rows:\n",
      "       Column1  Column2  Column3  Column4\n",
      "Row3        9       10       11       12\n",
      "Row4       13       14       15       16\n",
      "Row5       17       18       19       20\n"
     ]
    }
   ],
   "source": [
    "# Get last 5 rows\n",
    "# if n is empty it will return the last 5 rows\n",
    "n = 3\n",
    "bottom_rows = df.tail(n)\n",
    "print(\"\\nBottom n rows:\\n\", bottom_rows)"
   ]
  },
  {
   "cell_type": "code",
   "execution_count": null,
   "id": "cc7cd5ce",
   "metadata": {},
   "outputs": [
    {
     "name": "stdout",
     "output_type": "stream",
     "text": [
      "<class 'pandas.core.frame.DataFrame'>\n",
      "Index: 5 entries, Row1 to Row5\n",
      "Data columns (total 4 columns):\n",
      " #   Column   Non-Null Count  Dtype\n",
      "---  ------   --------------  -----\n",
      " 0   Column1  5 non-null      int64\n",
      " 1   Column2  5 non-null      int64\n",
      " 2   Column3  5 non-null      int64\n",
      " 3   Column4  5 non-null      int64\n",
      "dtypes: int64(4)\n",
      "memory usage: 200.0+ bytes\n"
     ]
    }
   ],
   "source": [
    "# Getting columns datatype and non-null counts\n",
    "# This provides a quick overview of the DataFrame's structure\n",
    "df_info = df.info()"
   ]
  },
  {
   "cell_type": "code",
   "execution_count": null,
   "id": "f5885cae",
   "metadata": {},
   "outputs": [
    {
     "name": "stdout",
     "output_type": "stream",
     "text": [
      "\n",
      "DataFrame Description:\n",
      "          Column1    Column2    Column3    Column4\n",
      "count   5.000000   5.000000   5.000000   5.000000\n",
      "mean    9.000000  10.000000  11.000000  12.000000\n",
      "std     6.324555   6.324555   6.324555   6.324555\n",
      "min     1.000000   2.000000   3.000000   4.000000\n",
      "25%     5.000000   6.000000   7.000000   8.000000\n",
      "50%     9.000000  10.000000  11.000000  12.000000\n",
      "75%    13.000000  14.000000  15.000000  16.000000\n",
      "max    17.000000  18.000000  19.000000  20.000000\n"
     ]
    }
   ],
   "source": [
    "# Describe DataFrame\n",
    "# Get a statistical summary of the DataFrame\n",
    "# This includes count, mean, std, min, 25%, 50%, 75%, max for each numeric column\n",
    "df_description = df.describe()\n",
    "print(\"\\nDataFrame Description:\\n\", df_description)\n"
   ]
  },
  {
   "cell_type": "code",
   "execution_count": 67,
   "id": "1f53c7ca",
   "metadata": {},
   "outputs": [
    {
     "name": "stdout",
     "output_type": "stream",
     "text": [
      "\n",
      "Original DataFrame:\n",
      "       Column1  Column2  Column3  Column4\n",
      "Row1        1        2        3        4\n",
      "Row2        5        6        7        8\n",
      "Row3        9       10       11       12\n",
      "Row4       13       14       15       16\n",
      "Row5       17       18       19       20\n",
      "Column1:\n",
      " Row1     1\n",
      "Row2     5\n",
      "Row3     9\n",
      "Row4    13\n",
      "Row5    17\n",
      "Name: Column1, dtype: int64\n",
      "\n",
      "Columns 1 and 2:\n",
      "       Column1  Column2\n",
      "Row1        1        2\n",
      "Row2        5        6\n",
      "Row3        9       10\n",
      "Row4       13       14\n",
      "Row5       17       18\n",
      "\n",
      "Row 0:\n",
      " Column1    1\n",
      "Column2    2\n",
      "Column3    3\n",
      "Column4    4\n",
      "Name: Row1, dtype: int64\n",
      "\n",
      "Rows 0 and 1:\n",
      "       Column1  Column2  Column3  Column4\n",
      "Row1        1        2        3        4\n",
      "Row2        5        6        7        8\n",
      "\n",
      "Rows 0 and 1 (using iloc):\n",
      "       Column1  Column2  Column3  Column4\n",
      "Row1        1        2        3        4\n",
      "Row2        5        6        7        8\n",
      "Row3        9       10       11       12\n",
      "\n",
      "Columns 1 and 2 (using iloc):\n",
      "       Column2  Column3\n",
      "Row1        2        3\n",
      "Row2        6        7\n",
      "Row3       10       11\n",
      "Row4       14       15\n",
      "Row5       18       19\n",
      "\n",
      "Specific Rows and Columns (using iloc):\n",
      "       Column2  Column3\n",
      "Row1        2        3\n",
      "Row2        6        7\n"
     ]
    }
   ],
   "source": [
    "## Indexing and selecting data in a DataFrame\n",
    "# Display the original DataFrame\n",
    "print(\"\\nOriginal DataFrame:\\n\", df)\n",
    "\n",
    "# Select a single column\n",
    "# Single Column or Single row called a Series\n",
    "column_1 = df['Column1']\n",
    "print(\"Column1:\\n\", column_1)\n",
    "\n",
    "# Select multiple columns\n",
    "# Multiple columns are still a DataFrame\n",
    "columns_1_2 = df[['Column1', 'Column2']]\n",
    "print(\"\\nColumns 1 and 2:\\n\", columns_1_2)\n",
    "\n",
    "# Select rows by label using .loc\n",
    "row_0 = df.loc['Row1']\n",
    "print(\"\\nRow 0:\\n\", row_0)\n",
    "\n",
    "# Select multiple rows by label using .loc\n",
    "rows_0_1 = df.loc[['Row1', 'Row2']]\n",
    "print(\"\\nRows 0 and 1:\\n\", rows_0_1)\n",
    "\n",
    "# Select multiple rows by integer location using .iloc\n",
    "rows_0_1 = df.iloc[0:3]\n",
    "print(\"\\nRows 0 and 1 (using iloc):\\n\", rows_0_1)\n",
    "\n",
    "# Select multiple columns by integer location using .iloc\n",
    "columns_1_2 = df.iloc[:, 1:3]\n",
    "print(\"\\nColumns 1 and 2 (using iloc):\\n\", columns_1_2)\n",
    "\n",
    "# Select specific rows and columns using .iloc\n",
    "# Bounded by the rows and columns specified (0 to 2 for rows and 1 to 3 for columns)\n",
    "# This will select rows 0 and 1, and columns 1 and 2\n",
    "specific_rows_columns = df.iloc[0:2, 1:3]\n",
    "print(\"\\nSpecific Rows and Columns (using iloc):\\n\", specific_rows_columns)\n"
   ]
  },
  {
   "cell_type": "code",
   "execution_count": null,
   "id": "874f2ea1",
   "metadata": {},
   "outputs": [
    {
     "name": "stdout",
     "output_type": "stream",
     "text": [
      "   ORDERNUMBER  QUANTITYORDERED  PRICEEACH  ORDERLINENUMBER    SALES  \\\n",
      "0        10107               30      95.70                2  2871.00   \n",
      "1        10121               34      81.35                5  2765.90   \n",
      "2        10134               41      94.74                2  3884.34   \n",
      "3        10145               45      83.26                6  3746.70   \n",
      "4        10159               49     100.00               14  5205.27   \n",
      "\n",
      "         ORDERDATE   STATUS  QTR_ID  MONTH_ID  YEAR_ID  ...  \\\n",
      "0   2/24/2003 0:00  Shipped       1         2     2003  ...   \n",
      "1    5/7/2003 0:00  Shipped       2         5     2003  ...   \n",
      "2    7/1/2003 0:00  Shipped       3         7     2003  ...   \n",
      "3   8/25/2003 0:00  Shipped       3         8     2003  ...   \n",
      "4  10/10/2003 0:00  Shipped       4        10     2003  ...   \n",
      "\n",
      "                    ADDRESSLINE1  ADDRESSLINE2           CITY STATE  \\\n",
      "0        897 Long Airport Avenue           NaN            NYC    NY   \n",
      "1             59 rue de l'Abbaye           NaN          Reims   NaN   \n",
      "2  27 rue du Colonel Pierre Avia           NaN          Paris   NaN   \n",
      "3             78934 Hillside Dr.           NaN       Pasadena    CA   \n",
      "4                7734 Strong St.           NaN  San Francisco    CA   \n",
      "\n",
      "  POSTALCODE COUNTRY TERRITORY CONTACTLASTNAME CONTACTFIRSTNAME DEALSIZE  \n",
      "0      10022     USA       NaN              Yu             Kwai    Small  \n",
      "1      51100  France      EMEA         Henriot             Paul    Small  \n",
      "2      75508  France      EMEA        Da Cunha           Daniel   Medium  \n",
      "3      90003     USA       NaN           Young            Julie   Medium  \n",
      "4        NaN     USA       NaN           Brown            Julie   Medium  \n",
      "\n",
      "[5 rows x 25 columns]\n"
     ]
    }
   ],
   "source": [
    "# read csv file\n",
    "df = pd.read_csv('sales_data_sample.csv', encoding='latin1')\n",
    "print(df)\n",
    "\n",
    "# Display the first few rows of the DataFrame\n",
    "print(df.head())"
   ]
  },
  {
   "cell_type": "code",
   "execution_count": 9,
   "id": "2eee2fd1",
   "metadata": {},
   "outputs": [
    {
     "name": "stdout",
     "output_type": "stream",
     "text": [
      "      ORDERNUMBER  QUANTITYORDERED  PRICEEACH  ORDERLINENUMBER    SALES  \\\n",
      "2818        10350               20     100.00               15  2244.40   \n",
      "2819        10373               29     100.00                1  3978.51   \n",
      "2820        10386               43     100.00                4  5417.57   \n",
      "2821        10397               34      62.24                1  2116.16   \n",
      "2822        10414               47      65.52                9  3079.44   \n",
      "\n",
      "           ORDERDATE    STATUS  QTR_ID  MONTH_ID  YEAR_ID  ...  \\\n",
      "2818  12/2/2004 0:00   Shipped       4        12     2004  ...   \n",
      "2819  1/31/2005 0:00   Shipped       1         1     2005  ...   \n",
      "2820   3/1/2005 0:00  Resolved       1         3     2005  ...   \n",
      "2821  3/28/2005 0:00   Shipped       1         3     2005  ...   \n",
      "2822   5/6/2005 0:00   On Hold       2         5     2005  ...   \n",
      "\n",
      "               ADDRESSLINE1  ADDRESSLINE2      CITY STATE POSTALCODE  COUNTRY  \\\n",
      "2818     C/ Moralzarzal, 86           NaN    Madrid   NaN      28034    Spain   \n",
      "2819            Torikatu 38           NaN      Oulu   NaN      90110  Finland   \n",
      "2820     C/ Moralzarzal, 86           NaN    Madrid   NaN      28034    Spain   \n",
      "2821  1 rue Alsace-Lorraine           NaN  Toulouse   NaN      31000   France   \n",
      "2822     8616 Spinnaker Dr.           NaN    Boston    MA      51003      USA   \n",
      "\n",
      "     TERRITORY CONTACTLASTNAME CONTACTFIRSTNAME DEALSIZE  \n",
      "2818      EMEA          Freyre            Diego    Small  \n",
      "2819      EMEA       Koskitalo           Pirkko   Medium  \n",
      "2820      EMEA          Freyre            Diego   Medium  \n",
      "2821      EMEA          Roulet          Annette    Small  \n",
      "2822       NaN         Yoshido             Juri   Medium  \n",
      "\n",
      "[5 rows x 25 columns]\n"
     ]
    }
   ],
   "source": [
    "# read csv file\n",
    "df = pd.read_csv('sales_data_sample.csv', encoding='latin1')\n",
    "\n",
    "# Display the last few rows of the DataFrame\n",
    "print(df.tail())"
   ]
  },
  {
   "cell_type": "code",
   "execution_count": 10,
   "id": "1649757f",
   "metadata": {},
   "outputs": [
    {
     "name": "stdout",
     "output_type": "stream",
     "text": [
      "Index(['ORDERNUMBER', 'QUANTITYORDERED', 'PRICEEACH', 'ORDERLINENUMBER',\n",
      "       'SALES', 'ORDERDATE', 'STATUS', 'QTR_ID', 'MONTH_ID', 'YEAR_ID',\n",
      "       'PRODUCTLINE', 'MSRP', 'PRODUCTCODE', 'CUSTOMERNAME', 'PHONE',\n",
      "       'ADDRESSLINE1', 'ADDRESSLINE2', 'CITY', 'STATE', 'POSTALCODE',\n",
      "       'COUNTRY', 'TERRITORY', 'CONTACTLASTNAME', 'CONTACTFIRSTNAME',\n",
      "       'DEALSIZE'],\n",
      "      dtype='object')\n"
     ]
    }
   ],
   "source": [
    "# read csv file\n",
    "df = pd.read_csv('sales_data_sample.csv', encoding='latin1')\n",
    "\n",
    "# display all headers \n",
    "print(df.columns)"
   ]
  },
  {
   "cell_type": "code",
   "execution_count": 27,
   "id": "866e13ff",
   "metadata": {},
   "outputs": [
    {
     "name": "stdout",
     "output_type": "stream",
     "text": [
      "['NYC' 'Reims' 'Paris' 'Pasadena' 'San Francisco' 'Burlingame' 'Lille'\n",
      " 'Bergen' 'Melbourne' 'Newark' 'Bridgewater' 'Nantes' 'Cambridge'\n",
      " 'Helsinki' 'Stavern' 'Allentown' 'Salzburg' 'Chatswood' 'New Bedford'\n",
      " 'Liverpool' 'Madrid' 'Lule' 'Singapore' 'South Brisbane' 'Philadelphia'\n",
      " 'Lyon' 'Vancouver' 'Burbank' 'New Haven' 'Minato-ku' 'Torino' 'Boras'\n",
      " 'Versailles' 'San Rafael' 'Nashua' 'Brickhaven' 'North Sydney' 'Montreal'\n",
      " 'Osaka' 'White Plains' 'Kobenhavn' 'London' 'Toulouse' 'Barcelona'\n",
      " 'Los Angeles' 'San Diego' 'Bruxelles' 'Tsawassen' 'Boston' 'Cowes' 'Oulu'\n",
      " 'San Jose' 'Graz' 'Makati City' 'Marseille' 'Koln' 'Gensve'\n",
      " 'Reggio Emilia' 'Frankfurt' 'Espoo' 'Dublin' 'Manchester' 'Aaarhus'\n",
      " 'Glendale' 'Sevilla' 'Brisbane' 'Strasbourg' 'Las Vegas' 'Oslo' 'Bergamo'\n",
      " 'Glen Waverly' 'Munich' 'Charleroi']\n"
     ]
    }
   ],
   "source": [
    "# read csv file\n",
    "df = pd.read_csv('sales_data_sample.csv', encoding='latin1')\n",
    "\n",
    "# display all distinct values in a column\n",
    "print(df['CITY'].unique())"
   ]
  },
  {
   "cell_type": "code",
   "execution_count": 16,
   "id": "551e2b24",
   "metadata": {},
   "outputs": [
    {
     "name": "stdout",
     "output_type": "stream",
     "text": [
      "Columns with null values: Index(['ADDRESSLINE2', 'STATE', 'POSTALCODE', 'TERRITORY'], dtype='object')\n",
      "Columns with NA values: Index(['ADDRESSLINE2', 'STATE', 'POSTALCODE', 'TERRITORY'], dtype='object')\n",
      "Columns with NY values: Index(['STATE'], dtype='object')\n"
     ]
    }
   ],
   "source": [
    "# read csv file\n",
    "df = pd.read_csv('sales_data_sample.csv', encoding='latin1')\n",
    "\n",
    "# Display columns that have null values\n",
    "null_columns = df.columns[df.isnull().any()]\n",
    "print(\"Columns with null values:\", null_columns)\n",
    "\n",
    "# Display columns that have specific value NA\n",
    "na_columns = df.columns[df.isna().any()]\n",
    "print(\"Columns with NA values:\", na_columns)\n",
    "\n",
    "# Display columns that have specific value NY\n",
    "ny_columns = df.columns[df.isin(['NY']).any()]\n",
    "print(\"Columns with NY values:\", ny_columns)"
   ]
  },
  {
   "cell_type": "code",
   "execution_count": 21,
   "id": "35de2244",
   "metadata": {},
   "outputs": [
    {
     "name": "stdout",
     "output_type": "stream",
     "text": [
      "Rows with null values:\n",
      "       ORDERNUMBER  QUANTITYORDERED  PRICEEACH  ORDERLINENUMBER    SALES  \\\n",
      "0           10107               30      95.70                2  2871.00   \n",
      "1           10121               34      81.35                5  2765.90   \n",
      "2           10134               41      94.74                2  3884.34   \n",
      "3           10145               45      83.26                6  3746.70   \n",
      "4           10159               49     100.00               14  5205.27   \n",
      "...           ...              ...        ...              ...      ...   \n",
      "2818        10350               20     100.00               15  2244.40   \n",
      "2819        10373               29     100.00                1  3978.51   \n",
      "2820        10386               43     100.00                4  5417.57   \n",
      "2821        10397               34      62.24                1  2116.16   \n",
      "2822        10414               47      65.52                9  3079.44   \n",
      "\n",
      "            ORDERDATE    STATUS  QTR_ID  MONTH_ID  YEAR_ID  ...  \\\n",
      "0      2/24/2003 0:00   Shipped       1         2     2003  ...   \n",
      "1       5/7/2003 0:00   Shipped       2         5     2003  ...   \n",
      "2       7/1/2003 0:00   Shipped       3         7     2003  ...   \n",
      "3      8/25/2003 0:00   Shipped       3         8     2003  ...   \n",
      "4     10/10/2003 0:00   Shipped       4        10     2003  ...   \n",
      "...               ...       ...     ...       ...      ...  ...   \n",
      "2818   12/2/2004 0:00   Shipped       4        12     2004  ...   \n",
      "2819   1/31/2005 0:00   Shipped       1         1     2005  ...   \n",
      "2820    3/1/2005 0:00  Resolved       1         3     2005  ...   \n",
      "2821   3/28/2005 0:00   Shipped       1         3     2005  ...   \n",
      "2822    5/6/2005 0:00   On Hold       2         5     2005  ...   \n",
      "\n",
      "                       ADDRESSLINE1  ADDRESSLINE2           CITY STATE  \\\n",
      "0           897 Long Airport Avenue           NaN            NYC    NY   \n",
      "1                59 rue de l'Abbaye           NaN          Reims   NaN   \n",
      "2     27 rue du Colonel Pierre Avia           NaN          Paris   NaN   \n",
      "3                78934 Hillside Dr.           NaN       Pasadena    CA   \n",
      "4                   7734 Strong St.           NaN  San Francisco    CA   \n",
      "...                             ...           ...            ...   ...   \n",
      "2818             C/ Moralzarzal, 86           NaN         Madrid   NaN   \n",
      "2819                    Torikatu 38           NaN           Oulu   NaN   \n",
      "2820             C/ Moralzarzal, 86           NaN         Madrid   NaN   \n",
      "2821          1 rue Alsace-Lorraine           NaN       Toulouse   NaN   \n",
      "2822             8616 Spinnaker Dr.           NaN         Boston    MA   \n",
      "\n",
      "     POSTALCODE  COUNTRY TERRITORY CONTACTLASTNAME CONTACTFIRSTNAME DEALSIZE  \n",
      "0         10022      USA       NaN              Yu             Kwai    Small  \n",
      "1         51100   France      EMEA         Henriot             Paul    Small  \n",
      "2         75508   France      EMEA        Da Cunha           Daniel   Medium  \n",
      "3         90003      USA       NaN           Young            Julie   Medium  \n",
      "4           NaN      USA       NaN           Brown            Julie   Medium  \n",
      "...         ...      ...       ...             ...              ...      ...  \n",
      "2818      28034    Spain      EMEA          Freyre            Diego    Small  \n",
      "2819      90110  Finland      EMEA       Koskitalo           Pirkko   Medium  \n",
      "2820      28034    Spain      EMEA          Freyre            Diego   Medium  \n",
      "2821      31000   France      EMEA          Roulet          Annette    Small  \n",
      "2822      51003      USA       NaN         Yoshido             Juri   Medium  \n",
      "\n",
      "[2676 rows x 25 columns]\n"
     ]
    }
   ],
   "source": [
    "# read csv file\n",
    "df = pd.read_csv('sales_data_sample.csv', encoding='latin1')\n",
    "\n",
    "# Display rows that have null values\n",
    "null_rows = df[df.isnull().any(axis=1)]\n",
    "print(\"Rows with null values:\\n\", null_rows)"
   ]
  },
  {
   "cell_type": "code",
   "execution_count": 25,
   "id": "4fbe2711",
   "metadata": {},
   "outputs": [
    {
     "name": "stdout",
     "output_type": "stream",
     "text": [
      "Rows with NY values:\n",
      "       ORDERNUMBER  QUANTITYORDERED  PRICEEACH  ORDERLINENUMBER    SALES  \\\n",
      "0           10107               30      95.70                2  2871.00   \n",
      "11          10237               23     100.00                7  2333.12   \n",
      "19          10329               42     100.00                1  4396.14   \n",
      "31          10163               21     100.00                1  4860.24   \n",
      "54          10107               39      99.91                5  3896.49   \n",
      "...           ...              ...        ...              ...      ...   \n",
      "2737        10337               36      71.89                7  2588.04   \n",
      "2759        10308               39      68.11               15  2656.29   \n",
      "2788        10329               44      86.13                8  3789.72   \n",
      "2809        10248               23      65.52                9  1506.96   \n",
      "2817        10337               42      97.16                5  4080.72   \n",
      "\n",
      "            ORDERDATE     STATUS  QTR_ID  MONTH_ID  YEAR_ID  ...  \\\n",
      "0      2/24/2003 0:00    Shipped       1         2     2003  ...   \n",
      "11      4/5/2004 0:00    Shipped       2         4     2004  ...   \n",
      "19    11/15/2004 0:00    Shipped       4        11     2004  ...   \n",
      "31    10/20/2003 0:00    Shipped       4        10     2003  ...   \n",
      "54     2/24/2003 0:00    Shipped       1         2     2003  ...   \n",
      "...               ...        ...     ...       ...      ...  ...   \n",
      "2737  11/21/2004 0:00    Shipped       4        11     2004  ...   \n",
      "2759  10/15/2004 0:00    Shipped       4        10     2004  ...   \n",
      "2788  11/15/2004 0:00    Shipped       4        11     2004  ...   \n",
      "2809    5/7/2004 0:00  Cancelled       2         5     2004  ...   \n",
      "2817  11/21/2004 0:00    Shipped       4        11     2004  ...   \n",
      "\n",
      "                   ADDRESSLINE1  ADDRESSLINE2          CITY STATE POSTALCODE  \\\n",
      "0       897 Long Airport Avenue           NaN           NYC    NY      10022   \n",
      "11            2678 Kingston Rd.     Suite 101           NYC    NY      10022   \n",
      "19      897 Long Airport Avenue           NaN           NYC    NY      10022   \n",
      "31             5905 Pompton St.     Suite 750           NYC    NY      10022   \n",
      "54      897 Long Airport Avenue           NaN           NYC    NY      10022   \n",
      "...                         ...           ...           ...   ...        ...   \n",
      "2737           5905 Pompton St.     Suite 750           NYC    NY      10022   \n",
      "2759  3758 North Pendale Street           NaN  White Plains    NY      24067   \n",
      "2788    897 Long Airport Avenue           NaN           NYC    NY      10022   \n",
      "2809    897 Long Airport Avenue           NaN           NYC    NY      10022   \n",
      "2817           5905 Pompton St.     Suite 750           NYC    NY      10022   \n",
      "\n",
      "     COUNTRY TERRITORY CONTACTLASTNAME CONTACTFIRSTNAME DEALSIZE  \n",
      "0        USA       NaN              Yu             Kwai    Small  \n",
      "11       USA       NaN           Frick          Michael    Small  \n",
      "19       USA       NaN              Yu             Kwai   Medium  \n",
      "31       USA       NaN       Hernandez            Maria   Medium  \n",
      "54       USA       NaN              Yu             Kwai   Medium  \n",
      "...      ...       ...             ...              ...      ...  \n",
      "2737     USA       NaN       Hernandez            Maria    Small  \n",
      "2759     USA       NaN           Frick            Steve    Small  \n",
      "2788     USA       NaN              Yu             Kwai   Medium  \n",
      "2809     USA       NaN              Yu             Kwai    Small  \n",
      "2817     USA       NaN       Hernandez            Maria   Medium  \n",
      "\n",
      "[178 rows x 25 columns]\n"
     ]
    }
   ],
   "source": [
    "# read csv file\n",
    "df = pd.read_csv('sales_data_sample.csv', encoding='latin1')\n",
    "\n",
    "# Display rows that have NY values\n",
    "NY_rows = df[df.isin(['NY']).any(axis=1)]\n",
    "print(\"Rows with NY values:\\n\", NY_rows)"
   ]
  },
  {
   "cell_type": "code",
   "execution_count": 36,
   "id": "2517808b",
   "metadata": {},
   "outputs": [
    {
     "name": "stdout",
     "output_type": "stream",
     "text": [
      "Max Sales: 14082.8\n",
      "Min Sales: 482.13\n",
      "Average Sales: 3553.889071909316\n",
      "Sum of Sales per Year:\n",
      " YEAR_ID\n",
      "2003    3516979.54\n",
      "2004    4724162.60\n",
      "2005    1791486.71\n",
      "Name: SALES, dtype: float64\n"
     ]
    }
   ],
   "source": [
    "# read csv file\n",
    "df = pd.read_csv('sales_data_sample.csv', encoding='latin1')\n",
    "\n",
    "# Display Max Sales\n",
    "max_sales = df['SALES'].max()\n",
    "print(\"Max Sales:\", max_sales)\n",
    "\n",
    "# Display Min Sales\n",
    "min_sales = df['SALES'].min()\n",
    "print(\"Min Sales:\", min_sales)\n",
    "\n",
    "# Display Average Sales\n",
    "avg_sales = df['SALES'].mean()\n",
    "print(\"Average Sales:\", avg_sales)\n",
    "\n",
    "# display Sum of Sales per Year\n",
    "sales_per_year = df.groupby('YEAR_ID')['SALES'].sum()\n",
    "print(\"Sum of Sales per Year:\\n\", sales_per_year)"
   ]
  },
  {
   "cell_type": "code",
   "execution_count": 40,
   "id": "e12c3be6",
   "metadata": {},
   "outputs": [
    {
     "name": "stdout",
     "output_type": "stream",
     "text": [
      "Employees DataFrame with Bonus:\n",
      "       name  age  salary  performance_score   bonus\n",
      "0    Alice   25   50000                  8  4000.0\n",
      "1      Bob   30   60000                  7  4200.0\n",
      "2  Charlie   28   55000                  9  4950.0\n",
      "3    Diana   35   75000                  6  4500.0\n",
      "4    Ethan   40   80000                  8  6400.0\n",
      "5    Fiona   29   58000                  7  4060.0\n",
      "6   George   32   62000                  8  4960.0\n",
      "7   Hannah   27   54000                  9  4860.0\n",
      "8      Ian   38   78000                  6  4680.0\n",
      "9    Julia   26   52000                  7  3640.0\n",
      "Employees DataFrame with Total Salary:\n",
      "       name  age  salary  performance_score   bonus  total_salary\n",
      "0    Alice   25   50000                  8  4000.0       54000.0\n",
      "1      Bob   30   60000                  7  4200.0       64200.0\n",
      "2  Charlie   28   55000                  9  4950.0       59950.0\n",
      "3    Diana   35   75000                  6  4500.0       79500.0\n",
      "4    Ethan   40   80000                  8  6400.0       86400.0\n",
      "5    Fiona   29   58000                  7  4060.0       62060.0\n",
      "6   George   32   62000                  8  4960.0       66960.0\n",
      "7   Hannah   27   54000                  9  4860.0       58860.0\n",
      "8      Ian   38   78000                  6  4680.0       82680.0\n",
      "9    Julia   26   52000                  7  3640.0       55640.0\n"
     ]
    }
   ],
   "source": [
    "# Sample employee data\n",
    "data = {\n",
    "    \"name\": [\"Alice\", \"Bob\", \"Charlie\", \"Diana\", \"Ethan\", \"Fiona\", \"George\", \"Hannah\", \"Ian\", \"Julia\"],\n",
    "    \"age\": [25, 30, 28, 35, 40, 29, 32, 27, 38, 26],\n",
    "    \"salary\": [50000, 60000, 55000, 75000, 80000, 58000, 62000, 54000, 78000, 52000],\n",
    "    \"performance_score\": [8, 7, 9, 6, 8, 7, 8, 9, 6, 7]\n",
    "}\n",
    "\n",
    "# Create DataFrame\n",
    "employees_df = pd.DataFrame(data)\n",
    "\n",
    "# Add new calculated column 'bonus'\n",
    "employees_df['bonus'] = employees_df['salary'] * (employees_df['performance_score'] / 100)\n",
    "print(\"Employees DataFrame with Bonus:\\n\", employees_df)\n",
    "\n",
    "# add new column Total salary\n",
    "employees_df['total_salary'] = employees_df['salary'] + employees_df['bonus']\n",
    "print(\"Employees DataFrame with Total Salary:\\n\", employees_df)"
   ]
  }
 ],
 "metadata": {
  "kernelspec": {
   "display_name": "venv",
   "language": "python",
   "name": "python3"
  },
  "language_info": {
   "codemirror_mode": {
    "name": "ipython",
    "version": 3
   },
   "file_extension": ".py",
   "mimetype": "text/x-python",
   "name": "python",
   "nbconvert_exporter": "python",
   "pygments_lexer": "ipython3",
   "version": "3.13.5"
  }
 },
 "nbformat": 4,
 "nbformat_minor": 5
}
