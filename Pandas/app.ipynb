{
 "cells": [
  {
   "cell_type": "code",
   "execution_count": 11,
   "id": "3384bf8d",
   "metadata": {},
   "outputs": [],
   "source": [
    "import pandas as pd\n",
    "import numpy as np"
   ]
  },
  {
   "cell_type": "code",
   "execution_count": 13,
   "id": "3724aeec",
   "metadata": {},
   "outputs": [
    {
     "name": "stdout",
     "output_type": "stream",
     "text": [
      "1d array: [ 1  2  3  4  5  6  7  8  9 10 11 12 13 14 15 16 17 18 19 20]\n",
      "\n",
      " 2d array: [[ 1  2  3  4]\n",
      " [ 5  6  7  8]\n",
      " [ 9 10 11 12]\n",
      " [13 14 15 16]\n",
      " [17 18 19 20]]\n",
      "\n",
      " DataFrame:     A   B   C   D\n",
      "0   1   2   3   4\n",
      "1   5   6   7   8\n",
      "2   9  10  11  12\n",
      "3  13  14  15  16\n",
      "4  17  18  19  20\n"
     ]
    }
   ],
   "source": [
    "# Generating basic DataFrame\n",
    "data = np.arange(1, 21)\n",
    "print(\"1d array:\", data)\n",
    "\n",
    "reshaped_data = data.reshape(5, 4)\n",
    "print(\"\\n 2d array:\", reshaped_data)\n",
    "\n",
    "df = pd.DataFrame(reshaped_data, columns=['A', 'B', 'C', 'D'])\n",
    "print(\"\\n DataFrame:\", df)\n"
   ]
  },
  {
   "cell_type": "code",
   "execution_count": 14,
   "id": "bd73bbfb",
   "metadata": {},
   "outputs": [
    {
     "name": "stdout",
     "output_type": "stream",
     "text": [
      "DataFrame:           A         B\n",
      "0  0.729288  0.350330\n",
      "1  0.198970  0.181211\n",
      "2  0.158525  0.108594\n",
      "3  0.853634  0.283908\n",
      "4  0.436089  0.668207\n"
     ]
    }
   ],
   "source": [
    "# Generating random DataFrame\n",
    "df = pd.DataFrame({\n",
    "    'A': np.random.rand(5),\n",
    "    'B': np.random.rand(5)\n",
    "})\n",
    "\n",
    "print(\"DataFrame:\", df)"
   ]
  },
  {
   "cell_type": "code",
   "execution_count": 15,
   "id": "4445bb5c",
   "metadata": {},
   "outputs": [
    {
     "name": "stdout",
     "output_type": "stream",
     "text": [
      "      Column1  Column2  Column3  Column4\n",
      "Row1        1        2        3        4\n",
      "Row2        5        6        7        8\n",
      "Row3        9       10       11       12\n",
      "Row4       13       14       15       16\n",
      "Row5       17       18       19       20\n"
     ]
    }
   ],
   "source": [
    "# with rows and columns names\n",
    "data = np.arange(1, 21)\n",
    "reshaped_data = data.reshape(5, 4)\n",
    "df = pd.DataFrame(reshaped_data, index=['Row1', 'Row2', 'Row3', 'Row4', 'Row5'], columns=['Column1', 'Column2', 'Column3', 'Column4'])\n",
    "print(df)\n"
   ]
  },
  {
   "cell_type": "code",
   "execution_count": 16,
   "id": "d4af5438",
   "metadata": {},
   "outputs": [
    {
     "name": "stdout",
     "output_type": "stream",
     "text": [
      "\n",
      "Top n rows:\n",
      "       Column1  Column2  Column3  Column4\n",
      "Row1        1        2        3        4\n",
      "Row2        5        6        7        8\n",
      "Row3        9       10       11       12\n"
     ]
    }
   ],
   "source": [
    "# Get top 5 rows\n",
    "# if n is empty it will return the first 5 rows\n",
    "n = 3\n",
    "top_rows = df.head(n)\n",
    "print(\"\\nTop n rows:\\n\", top_rows)"
   ]
  },
  {
   "cell_type": "code",
   "execution_count": 17,
   "id": "1458c307",
   "metadata": {},
   "outputs": [
    {
     "name": "stdout",
     "output_type": "stream",
     "text": [
      "\n",
      "Bottom n rows:\n",
      "       Column1  Column2  Column3  Column4\n",
      "Row3        9       10       11       12\n",
      "Row4       13       14       15       16\n",
      "Row5       17       18       19       20\n"
     ]
    }
   ],
   "source": [
    "# Get last 5 rows\n",
    "# if n is empty it will return the last 5 rows\n",
    "n = 3\n",
    "bottom_rows = df.tail(n)\n",
    "print(\"\\nBottom n rows:\\n\", bottom_rows)"
   ]
  },
  {
   "cell_type": "code",
   "execution_count": null,
   "id": "cc7cd5ce",
   "metadata": {},
   "outputs": [
    {
     "name": "stdout",
     "output_type": "stream",
     "text": [
      "<class 'pandas.core.frame.DataFrame'>\n",
      "Index: 5 entries, Row1 to Row5\n",
      "Data columns (total 4 columns):\n",
      " #   Column   Non-Null Count  Dtype\n",
      "---  ------   --------------  -----\n",
      " 0   Column1  5 non-null      int64\n",
      " 1   Column2  5 non-null      int64\n",
      " 2   Column3  5 non-null      int64\n",
      " 3   Column4  5 non-null      int64\n",
      "dtypes: int64(4)\n",
      "memory usage: 200.0+ bytes\n"
     ]
    }
   ],
   "source": [
    "# Getting columns datatype and non-null counts\n",
    "# This provides a quick overview of the DataFrame's structure\n",
    "df_info = df.info()"
   ]
  },
  {
   "cell_type": "code",
   "execution_count": null,
   "id": "f5885cae",
   "metadata": {},
   "outputs": [
    {
     "name": "stdout",
     "output_type": "stream",
     "text": [
      "\n",
      "DataFrame Description:\n",
      "          Column1    Column2    Column3    Column4\n",
      "count   5.000000   5.000000   5.000000   5.000000\n",
      "mean    9.000000  10.000000  11.000000  12.000000\n",
      "std     6.324555   6.324555   6.324555   6.324555\n",
      "min     1.000000   2.000000   3.000000   4.000000\n",
      "25%     5.000000   6.000000   7.000000   8.000000\n",
      "50%     9.000000  10.000000  11.000000  12.000000\n",
      "75%    13.000000  14.000000  15.000000  16.000000\n",
      "max    17.000000  18.000000  19.000000  20.000000\n"
     ]
    }
   ],
   "source": [
    "# Describe DataFrame\n",
    "# Get a statistical summary of the DataFrame\n",
    "# This includes count, mean, std, min, 25%, 50%, 75%, max for each numeric column\n",
    "df_description = df.describe()\n",
    "print(\"\\nDataFrame Description:\\n\", df_description)\n"
   ]
  },
  {
   "cell_type": "code",
   "execution_count": 67,
   "id": "1f53c7ca",
   "metadata": {},
   "outputs": [
    {
     "name": "stdout",
     "output_type": "stream",
     "text": [
      "\n",
      "Original DataFrame:\n",
      "       Column1  Column2  Column3  Column4\n",
      "Row1        1        2        3        4\n",
      "Row2        5        6        7        8\n",
      "Row3        9       10       11       12\n",
      "Row4       13       14       15       16\n",
      "Row5       17       18       19       20\n",
      "Column1:\n",
      " Row1     1\n",
      "Row2     5\n",
      "Row3     9\n",
      "Row4    13\n",
      "Row5    17\n",
      "Name: Column1, dtype: int64\n",
      "\n",
      "Columns 1 and 2:\n",
      "       Column1  Column2\n",
      "Row1        1        2\n",
      "Row2        5        6\n",
      "Row3        9       10\n",
      "Row4       13       14\n",
      "Row5       17       18\n",
      "\n",
      "Row 0:\n",
      " Column1    1\n",
      "Column2    2\n",
      "Column3    3\n",
      "Column4    4\n",
      "Name: Row1, dtype: int64\n",
      "\n",
      "Rows 0 and 1:\n",
      "       Column1  Column2  Column3  Column4\n",
      "Row1        1        2        3        4\n",
      "Row2        5        6        7        8\n",
      "\n",
      "Rows 0 and 1 (using iloc):\n",
      "       Column1  Column2  Column3  Column4\n",
      "Row1        1        2        3        4\n",
      "Row2        5        6        7        8\n",
      "Row3        9       10       11       12\n",
      "\n",
      "Columns 1 and 2 (using iloc):\n",
      "       Column2  Column3\n",
      "Row1        2        3\n",
      "Row2        6        7\n",
      "Row3       10       11\n",
      "Row4       14       15\n",
      "Row5       18       19\n",
      "\n",
      "Specific Rows and Columns (using iloc):\n",
      "       Column2  Column3\n",
      "Row1        2        3\n",
      "Row2        6        7\n"
     ]
    }
   ],
   "source": [
    "## Indexing and selecting data in a DataFrame\n",
    "# Display the original DataFrame\n",
    "print(\"\\nOriginal DataFrame:\\n\", df)\n",
    "\n",
    "# Select a single column\n",
    "# Single Column or Single row called a Series\n",
    "column_1 = df['Column1']\n",
    "print(\"Column1:\\n\", column_1)\n",
    "\n",
    "# Select multiple columns\n",
    "# Multiple columns are still a DataFrame\n",
    "columns_1_2 = df[['Column1', 'Column2']]\n",
    "print(\"\\nColumns 1 and 2:\\n\", columns_1_2)\n",
    "\n",
    "# Select rows by label using .loc\n",
    "row_0 = df.loc['Row1']\n",
    "print(\"\\nRow 0:\\n\", row_0)\n",
    "\n",
    "# Select multiple rows by label using .loc\n",
    "rows_0_1 = df.loc[['Row1', 'Row2']]\n",
    "print(\"\\nRows 0 and 1:\\n\", rows_0_1)\n",
    "\n",
    "# Select multiple rows by integer location using .iloc\n",
    "rows_0_1 = df.iloc[0:3]\n",
    "print(\"\\nRows 0 and 1 (using iloc):\\n\", rows_0_1)\n",
    "\n",
    "# Select multiple columns by integer location using .iloc\n",
    "columns_1_2 = df.iloc[:, 1:3]\n",
    "print(\"\\nColumns 1 and 2 (using iloc):\\n\", columns_1_2)\n",
    "\n",
    "# Select specific rows and columns using .iloc\n",
    "# Bounded by the rows and columns specified (0 to 2 for rows and 1 to 3 for columns)\n",
    "# This will select rows 0 and 1, and columns 1 and 2\n",
    "specific_rows_columns = df.iloc[0:2, 1:3]\n",
    "print(\"\\nSpecific Rows and Columns (using iloc):\\n\", specific_rows_columns)\n"
   ]
  }
 ],
 "metadata": {
  "kernelspec": {
   "display_name": "venv",
   "language": "python",
   "name": "python3"
  },
  "language_info": {
   "codemirror_mode": {
    "name": "ipython",
    "version": 3
   },
   "file_extension": ".py",
   "mimetype": "text/x-python",
   "name": "python",
   "nbconvert_exporter": "python",
   "pygments_lexer": "ipython3",
   "version": "3.13.5"
  }
 },
 "nbformat": 4,
 "nbformat_minor": 5
}
