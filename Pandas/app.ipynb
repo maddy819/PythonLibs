{
 "cells": [
  {
   "cell_type": "code",
   "execution_count": 2,
   "id": "3384bf8d",
   "metadata": {},
   "outputs": [],
   "source": [
    "import pandas as pd\n",
    "import numpy as np"
   ]
  },
  {
   "cell_type": "code",
   "execution_count": 13,
   "id": "3724aeec",
   "metadata": {},
   "outputs": [
    {
     "name": "stdout",
     "output_type": "stream",
     "text": [
      "1d array: [ 1  2  3  4  5  6  7  8  9 10 11 12 13 14 15 16 17 18 19 20]\n",
      "\n",
      " 2d array: [[ 1  2  3  4]\n",
      " [ 5  6  7  8]\n",
      " [ 9 10 11 12]\n",
      " [13 14 15 16]\n",
      " [17 18 19 20]]\n",
      "\n",
      " DataFrame:     A   B   C   D\n",
      "0   1   2   3   4\n",
      "1   5   6   7   8\n",
      "2   9  10  11  12\n",
      "3  13  14  15  16\n",
      "4  17  18  19  20\n"
     ]
    }
   ],
   "source": [
    "# Generating basic DataFrame\n",
    "data = np.arange(1, 21)\n",
    "print(\"1d array:\", data)\n",
    "\n",
    "reshaped_data = data.reshape(5, 4)\n",
    "print(\"\\n 2d array:\", reshaped_data)\n",
    "\n",
    "df = pd.DataFrame(reshaped_data, columns=['A', 'B', 'C', 'D'])\n",
    "print(\"\\n DataFrame:\", df)\n"
   ]
  },
  {
   "cell_type": "code",
   "execution_count": 16,
   "id": "bd73bbfb",
   "metadata": {},
   "outputs": [
    {
     "name": "stdout",
     "output_type": "stream",
     "text": [
      "DataFrame:           A         B\n",
      "0  0.605971  0.183015\n",
      "1  0.077071  0.145650\n",
      "2  0.531105  0.844308\n",
      "3  0.972675  0.282931\n",
      "4  0.310864  0.019379\n"
     ]
    }
   ],
   "source": [
    "# Generating random DataFrame\n",
    "df = pd.DataFrame({\n",
    "    'A': np.random.rand(5),\n",
    "    'B': np.random.rand(5)\n",
    "})\n",
    "\n",
    "print(\"DataFrame:\", df)"
   ]
  },
  {
   "cell_type": "code",
   "execution_count": 19,
   "id": "4445bb5c",
   "metadata": {},
   "outputs": [
    {
     "name": "stdout",
     "output_type": "stream",
     "text": [
      "      Column1  Column2  Column3  Column4\n",
      "Row1        1        2        3        4\n",
      "Row2        5        6        7        8\n",
      "Row3        9       10       11       12\n",
      "Row4       13       14       15       16\n",
      "Row5       17       18       19       20\n"
     ]
    }
   ],
   "source": [
    "# with rows and columns names\n",
    "data = np.arange(1, 21)\n",
    "reshaped_data = data.reshape(5, 4)\n",
    "df = pd.DataFrame(reshaped_data, index=['Row1', 'Row2', 'Row3', 'Row4', 'Row5'], columns=['Column1', 'Column2', 'Column3', 'Column4'])\n",
    "print(df)\n"
   ]
  },
  {
   "cell_type": "code",
   "execution_count": 27,
   "id": "d4af5438",
   "metadata": {},
   "outputs": [
    {
     "name": "stdout",
     "output_type": "stream",
     "text": [
      "\n",
      "Top n rows:\n",
      "       Column1  Column2  Column3  Column4\n",
      "Row1        1        2        3        4\n",
      "Row2        5        6        7        8\n",
      "Row3        9       10       11       12\n"
     ]
    }
   ],
   "source": [
    "# Get top 5 rows\n",
    "# if n is empty it will return the first 5 rows\n",
    "n = 3\n",
    "top_rows = df.head(n)\n",
    "print(\"\\nTop n rows:\\n\", top_rows)"
   ]
  },
  {
   "cell_type": "code",
   "execution_count": 30,
   "id": "1458c307",
   "metadata": {},
   "outputs": [
    {
     "name": "stdout",
     "output_type": "stream",
     "text": [
      "\n",
      "Bottom n rows:\n",
      "       Column1  Column2  Column3  Column4\n",
      "Row3        9       10       11       12\n",
      "Row4       13       14       15       16\n",
      "Row5       17       18       19       20\n"
     ]
    }
   ],
   "source": [
    "# Get last 5 rows\n",
    "# if n is empty it will return the last 5 rows\n",
    "n = 3\n",
    "bottom_rows = df.tail(n)\n",
    "print(\"\\nBottom n rows:\\n\", bottom_rows)"
   ]
  },
  {
   "cell_type": "code",
   "execution_count": null,
   "id": "cc7cd5ce",
   "metadata": {},
   "outputs": [
    {
     "name": "stdout",
     "output_type": "stream",
     "text": [
      "<class 'pandas.core.frame.DataFrame'>\n",
      "Index: 5 entries, Row1 to Row5\n",
      "Data columns (total 4 columns):\n",
      " #   Column   Non-Null Count  Dtype\n",
      "---  ------   --------------  -----\n",
      " 0   Column1  5 non-null      int64\n",
      " 1   Column2  5 non-null      int64\n",
      " 2   Column3  5 non-null      int64\n",
      " 3   Column4  5 non-null      int64\n",
      "dtypes: int64(4)\n",
      "memory usage: 200.0+ bytes\n",
      "\n",
      "DataFrame Info:\n",
      " None\n"
     ]
    }
   ],
   "source": [
    "# Getting columns datatype and non-null counts\n",
    "df_info = df.info()\n",
    "print(\"\\nDataFrame Info:\\n\", df_info)   "
   ]
  }
 ],
 "metadata": {
  "kernelspec": {
   "display_name": "venv",
   "language": "python",
   "name": "python3"
  },
  "language_info": {
   "codemirror_mode": {
    "name": "ipython",
    "version": 3
   },
   "file_extension": ".py",
   "mimetype": "text/x-python",
   "name": "python",
   "nbconvert_exporter": "python",
   "pygments_lexer": "ipython3",
   "version": "3.13.5"
  }
 },
 "nbformat": 4,
 "nbformat_minor": 5
}
