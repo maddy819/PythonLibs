{
 "cells": [
  {
   "cell_type": "markdown",
   "id": "eaae0b1f",
   "metadata": {},
   "source": [
    "#### How to Import Numpy"
   ]
  },
  {
   "cell_type": "code",
   "execution_count": 2,
   "id": "d3e93922",
   "metadata": {},
   "outputs": [],
   "source": [
    "# Import Numpy\n",
    "import numpy as np\n",
    "import matplotlib.pyplot as plt\n",
    "import time"
   ]
  },
  {
   "cell_type": "markdown",
   "id": "f25e7b75",
   "metadata": {},
   "source": [
    "#### Create array from list\n"
   ]
  },
  {
   "cell_type": "code",
   "execution_count": 3,
   "id": "d0c48af7",
   "metadata": {},
   "outputs": [
    {
     "name": "stdout",
     "output_type": "stream",
     "text": [
      "1D Array:\n",
      " [1 2 3 4 5]\n",
      "2D Array:\n",
      " [[1 2 3]\n",
      " [4 5 6]]\n",
      "1D Array (arange):\n",
      " [ 0  1  2  3  4  5  6  7  8  9 10 11 12 13 14 15 16 17 18 19 20 21 22 23]\n",
      "Multidimensional Array:\n",
      " [[ 0  1  2  3  4  5]\n",
      " [ 6  7  8  9 10 11]\n",
      " [12 13 14 15 16 17]\n",
      " [18 19 20 21 22 23]]\n"
     ]
    }
   ],
   "source": [
    "# Create 1D and 2D and Multidimensional arrays\n",
    "arr_1d = np.array([1, 2, 3, 4, 5])\n",
    "print(\"1D Array:\\n\", arr_1d)\n",
    "\n",
    "arr_2d = np.array([[1, 2, 3], [4, 5, 6]])\n",
    "print(\"2D Array:\\n\", arr_2d)\n",
    "\n",
    "# Create 1D Array using arange\n",
    "arr_arange = np.arange(24)\n",
    "print(\"1D Array (arange):\\n\", arr_arange)\n",
    "\n",
    "# Create Multidimensional Array using arange and reshape\n",
    "arr_Md = arr_arange.reshape(4, 6)\n",
    "print(\"Multidimensional Array:\\n\", arr_Md)"
   ]
  },
  {
   "cell_type": "markdown",
   "id": "7a7a3257",
   "metadata": {},
   "source": [
    "#### Compare Python list vs Numpy arrays"
   ]
  },
  {
   "cell_type": "code",
   "execution_count": null,
   "id": "0bdec1af",
   "metadata": {},
   "outputs": [
    {
     "name": "stdout",
     "output_type": "stream",
     "text": [
      "Python List Time: 0.08693265914916992\n",
      "NumPy Array Time: 0.00794076919555664\n"
     ]
    }
   ],
   "source": [
    "## Timing the operations\n",
    "# Python List\n",
    "start = time.time()\n",
    "py_list = [i*2 for i in range(1000000)]\n",
    "print(\"Python List Time:\", time.time() - start)\n",
    "\n",
    "# NumPy Array\n",
    "start = time.time()\n",
    "arr_1d = np.arange(1000000)\n",
    "arr_squared = arr_1d**2\n",
    "print(\"NumPy Array Time:\", time.time() - start)"
   ]
  },
  {
   "cell_type": "markdown",
   "id": "54782cee",
   "metadata": {},
   "source": [
    "#### Creating array from scratch in Numpy"
   ]
  },
  {
   "cell_type": "code",
   "execution_count": null,
   "id": "01f6be2b",
   "metadata": {},
   "outputs": [
    {
     "name": "stdout",
     "output_type": "stream",
     "text": [
      "Zeros Array:\n",
      " [[0. 0. 0. 0.]\n",
      " [0. 0. 0. 0.]\n",
      " [0. 0. 0. 0.]]\n",
      "Ones Array:\n",
      " [[1. 1. 1. 1. 1.]\n",
      " [1. 1. 1. 1. 1.]\n",
      " [1. 1. 1. 1. 1.]\n",
      " [1. 1. 1. 1. 1.]]\n",
      "Constant Array:\n",
      " [[7 7 7]\n",
      " [7 7 7]]\n",
      "Random Array:\n",
      " [[0.74256082 0.27188819 0.80178842]\n",
      " [0.10093202 0.64344742 0.36657058]\n",
      " [0.04704751 0.14491287 0.75003682]\n",
      " [0.29581143 0.90718964 0.55975129]]\n",
      "Random Integers Array:\n",
      " [[1337  981 2203 1165 1934 1744]\n",
      " [1732 2050  563 2429 2342 1288]\n",
      " [1608  993  742 1916 1813 1138]\n",
      " [2250 1681  760 1554 1342 1822]\n",
      " [ 981 1771 1647 2069  599 2732]\n",
      " [2234  770 1111 2390 1432  656]\n",
      " [1310 1499 1984 1230 2917 2466]\n",
      " [1820  986 2055 2318 1878 2378]\n",
      " [2316 2108 1013 2837 1169 1224]\n",
      " [1910 2898  702 1246 1761 1266]]\n",
      "Sequence Array:\n",
      " [10 15 20 25 30 35 40 45]\n"
     ]
    }
   ],
   "source": [
    "# Zeros array\n",
    "# Zeros are arrays filled with 0.\n",
    "zeros = np.zeros((3, 4))\n",
    "print(\"Zeros Array:\\n\", zeros)\n",
    "\n",
    "# Ones array\n",
    "# Ones are arrays filled with 1.\n",
    "ones = np.ones((4, 5))\n",
    "print(\"Ones Array:\\n\", ones)\n",
    "\n",
    "# Constant array\n",
    "# Constant arrays are filled with a constant value.\n",
    "constant = np.full((2, 3), 7)\n",
    "print(\"Constant Array:\\n\", constant)\n",
    "\n",
    "# Seed for reproducibility\n",
    "# Setting a random seed ensures that the random numbers generated are the same each time the code is run.\n",
    "np.random.seed(42)\n",
    "\n",
    "# Random array\n",
    "# Random arrays are filled with random values between 0 and 1.\n",
    "random = np.random.random((4, 3))\n",
    "print(\"Random Array:\\n\", random)\n",
    "\n",
    "# Random integers array\n",
    "# Generates 60 random integers between 500 and 3000.\n",
    "random_integers = np.random.randint(500, 3000, 60)\n",
    "print(\"Random Integers Array:\\n\", random_integers.reshape(10, 6))\n",
    "\n",
    "# Sequence array\n",
    "# Sequence arrays are filled with evenly spaced values within a specified range.\n",
    "sequence = np.arange(10, 50, 5)\n",
    "print(\"Sequence Array:\\n\", sequence)\n",
    "\n"
   ]
  },
  {
   "cell_type": "markdown",
   "id": "823803fa",
   "metadata": {},
   "source": [
    "#### Vectors, Matrices and Tensors"
   ]
  },
  {
   "cell_type": "code",
   "execution_count": null,
   "id": "a2f385ab",
   "metadata": {},
   "outputs": [
    {
     "name": "stdout",
     "output_type": "stream",
     "text": [
      "Vector:\n",
      " [1 2 3]\n",
      "Matrix:\n",
      " [[1 2 3]\n",
      " [4 5 6]]\n",
      "Tensor:\n",
      " [[[ 1  2  3]\n",
      "  [ 4  5  6]]\n",
      "\n",
      " [[ 7  8  9]\n",
      "  [10 11 12]]]\n"
     ]
    }
   ],
   "source": [
    "# Vectors\n",
    "# Vectors are one-dimensional arrays. \n",
    "vector = np.array([1, 2, 3])\n",
    "print(\"Vector:\\n\", vector)\n",
    "\n",
    "# Matrices\n",
    "# Matrices are two-dimensional arrays.\n",
    "matrix = np.array([[1, 2, 3], [4, 5, 6]])\n",
    "print(\"Matrix:\\n\", matrix)\n",
    "\n",
    "# Tensors\n",
    "# Tensors are multi-dimensional arrays.\n",
    "tensor = np.array([[[1, 2, 3], [4, 5, 6]], [[7, 8, 9], [10, 11, 12]]])\n",
    "print(\"Tensor:\\n\", tensor)"
   ]
  },
  {
   "cell_type": "markdown",
   "id": "3ba50ea2",
   "metadata": {},
   "source": [
    "#### Array Properties"
   ]
  },
  {
   "cell_type": "code",
   "execution_count": 7,
   "id": "4159e596",
   "metadata": {},
   "outputs": [
    {
     "name": "stdout",
     "output_type": "stream",
     "text": [
      "Array Shape:\n",
      " (2, 3)\n",
      "Array Dimensions:\n",
      " 2\n",
      "Array Size:\n",
      " 6\n",
      "Array Data Type:\n",
      " int64\n"
     ]
    }
   ],
   "source": [
    "arr = np.array([[1, 2, 3], [4, 5, 6]])\n",
    "\n",
    "# Shape\n",
    "# The shape of an array is its dimensions.\n",
    "print(\"Array Shape:\\n\", arr.shape)\n",
    "\n",
    "# Dimensions\n",
    "# The number of dimensions of an array.\n",
    "print(\"Array Dimensions:\\n\", arr.ndim)\n",
    "\n",
    "# Size\n",
    "# The size of an array is the total number of elements.\n",
    "print(\"Array Size:\\n\", arr.size)\n",
    "\n",
    "# Data Type\n",
    "# The data type of an array is the type of its elements.\n",
    "print(\"Array Data Type:\\n\", arr.dtype)"
   ]
  },
  {
   "cell_type": "markdown",
   "id": "03c6f864",
   "metadata": {},
   "source": [
    "#### Array Methods"
   ]
  },
  {
   "cell_type": "code",
   "execution_count": null,
   "id": "5083c307",
   "metadata": {},
   "outputs": [
    {
     "name": "stdout",
     "output_type": "stream",
     "text": [
      "Original Array:\n",
      " [ 0  1  2  3  4  5  6  7  8  9 10 11 12 13 14]\n",
      "Reshaped Array:\n",
      " [[ 0  1  2  3  4]\n",
      " [ 5  6  7  8  9]\n",
      " [10 11 12 13 14]]\n",
      "Flattened Array:\n",
      " [ 0  1  2  3  4  5  6  7  8  9 10 11 12 13 14]\n",
      "Raveled Array:\n",
      " [ 0  1  2  3  4  5  6  7  8  9 10 11 12 13 14]\n",
      "Transposed Array:\n",
      " [[ 0  5 10]\n",
      " [ 1  6 11]\n",
      " [ 2  7 12]\n",
      " [ 3  8 13]\n",
      " [ 4  9 14]]\n",
      "Basic sliced Array:\n",
      " [5 6 7 8 9]\n",
      "With Step sliced Array:\n",
      " [1 3 5 7]\n",
      "Negative sliced Array:\n",
      " 13\n",
      "Boolean Indexed Array:\n",
      " [ 6  7  8  9 10 11 12 13 14]\n",
      "Original Multidimensional Array Starts with 1:\n",
      " [[ 1  2  3  4  5]\n",
      " [ 6  7  8  9 10]\n",
      " [11 12 13 14 15]\n",
      " [16 17 18 19 20]\n",
      " [21 22 23 24 25]]\n",
      "Row sliced Multidimensional Array:\n",
      " [1 2 3 4 5]\n",
      "Column sliced Multidimensional Array:\n",
      " [ 2  7 12 17 22]\n",
      "With Step sliced Multidimensional Array:\n",
      " [2 4]\n",
      "Negative sliced Multidimensional Array:\n",
      " 4\n",
      "Array Sum:\n",
      " 325\n",
      "Array Mean:\n",
      " 13.0\n",
      "Array Max:\n",
      " 25\n",
      "Array Min:\n",
      " 1\n",
      "Array Product:\n",
      " 7034535277573963776\n",
      "Array Argmax:\n",
      " 24\n",
      "Array Argmin:\n",
      " 0\n"
     ]
    }
   ],
   "source": [
    "arr = np.arange(15)\n",
    "print(\"Original Array:\\n\", arr)\n",
    "\n",
    "# Reshaping\n",
    "# Reshape changes the shape of an array without changing its data.\n",
    "reshaped = arr.reshape(3, 5)\n",
    "print(\"Reshaped Array:\\n\", reshaped)\n",
    "\n",
    "# Flattening\n",
    "# Flatten returns a copy of the array collapsed into one dimension.\n",
    "flattened = reshaped.flatten()\n",
    "print(\"Flattened Array:\\n\", flattened)\n",
    "\n",
    "# Raveling\n",
    "# Ravel returns a flattened array, but is a view of the original array whenever possible.\n",
    "raveled = reshaped.ravel()\n",
    "print(\"Raveled Array:\\n\", raveled)\n",
    "\n",
    "# Transposing\n",
    "# Transposing swaps the rows and columns of an array.\n",
    "transposed = reshaped.T\n",
    "print(\"Transposed Array:\\n\", transposed)\n",
    "\n",
    "# Slicing\n",
    "# Slicing allows you to extract a portion of an array.\n",
    "sliced = arr[5:10]\n",
    "print(\"Basic sliced Array:\\n\", sliced)\n",
    "print(\"With Step sliced Array:\\n\", arr[1:8:2])\n",
    "print(\"Negative sliced Array:\\n\", arr[-2])\n",
    "\n",
    "# Sorting\n",
    "# Sorting an array returns a new array with the elements sorted.\n",
    "sorted_arr = np.sort(arr)\n",
    "print(\"Sorted Array:\\n\", sorted_arr)\n",
    "\n",
    "# Boolean Indexing\n",
    "# Boolean indexing allows you to select elements from an array based on a condition.\n",
    "bool_idx = arr > 5\n",
    "print(\"Boolean Indexed Array:\\n\", arr[bool_idx])\n",
    "\n",
    "arr_Md = np.arange(1, 26).reshape(5, 5)\n",
    "print(\"Original Multidimensional Array Starts with 1:\\n\", arr_Md)\n",
    "\n",
    "# Multidimensional array Slicing\n",
    "print(\"Row sliced Multidimensional Array:\\n\", arr_Md[0])\n",
    "print(\"Column sliced Multidimensional Array:\\n\", arr_Md[:, 1])\n",
    "print(\"With Step sliced Multidimensional Array:\\n\", arr_Md[0, 1:8:2])\n",
    "print(\"Negative sliced Multidimensional Array:\\n\", arr_Md[0, -2])\n",
    "\n",
    "# Array Statistics\n",
    "# Sum\n",
    "# The sum of an array is the total of all its elements.\n",
    "sum = arr_Md.sum()\n",
    "print(\"Array Sum:\\n\", sum)\n",
    "\n",
    "# Mean\n",
    "# The mean of an array is the average of its elements.\n",
    "mean = arr_Md.mean()\n",
    "print(\"Array Mean:\\n\", mean)\n",
    "\n",
    "# Max\n",
    "# The maximum value in an array.\n",
    "max = arr_Md.max()\n",
    "print(\"Array Max:\\n\", max)\n",
    "\n",
    "# Min\n",
    "# The minimum value in an array.\n",
    "min = arr_Md.min()\n",
    "print(\"Array Min:\\n\", min)\n",
    "\n",
    "# Product\n",
    "# The product of an array is the total of all its elements multiplied together.\n",
    "product = arr_Md.prod()\n",
    "print(\"Array Product:\\n\", product)\n",
    "\n",
    "# Argmax\n",
    "# The index of the maximum value in an array.\n",
    "argmax = arr_Md.argmax()\n",
    "print(\"Array Argmax:\\n\", argmax)\n",
    "\n",
    "# Argmin\n",
    "# The index of the minimum value in an array.\n",
    "argmin = arr_Md.argmin()\n",
    "print(\"Array Argmin:\\n\", argmin)\n"
   ]
  },
  {
   "cell_type": "markdown",
   "id": "3c48c3f8",
   "metadata": {},
   "source": [
    "### Unsorted array with Range and Sorting"
   ]
  },
  {
   "cell_type": "code",
   "execution_count": 20,
   "id": "c272105e",
   "metadata": {},
   "outputs": [
    {
     "name": "stdout",
     "output_type": "stream",
     "text": [
      "Unsorted 5x5 Array:\n",
      " [[ 1  5 11 25  7]\n",
      " [20 23 24 15 10]\n",
      " [16  6  9  4 19]\n",
      " [ 8 12 13  3 22]\n",
      " [ 2 18 14 17 21]]\n",
      "Sorted 5x5 Array:\n",
      " [[ 1  2  3  4  5]\n",
      " [ 6  7  8  9 10]\n",
      " [11 12 13 14 15]\n",
      " [16 17 18 19 20]\n",
      " [21 22 23 24 25]]\n",
      "Column Sorted 5x5 Array:\n",
      " [[ 1  5  9  3  7]\n",
      " [ 2  6 11  4 10]\n",
      " [ 8 12 13 15 19]\n",
      " [16 18 14 17 21]\n",
      " [20 23 24 25 22]]\n",
      "Row Sorted 5x5 Array:\n",
      " [[ 1  5  7 11 25]\n",
      " [10 15 20 23 24]\n",
      " [ 4  6  9 16 19]\n",
      " [ 3  8 12 13 22]\n",
      " [ 2 14 17 18 21]]\n"
     ]
    }
   ],
   "source": [
    "# Create numbers from 1 to 25\n",
    "arr = np.arange(1, 26)\n",
    "\n",
    "# Shuffle them randomly\n",
    "np.random.shuffle(arr)\n",
    "\n",
    "# Reshape into 5x5\n",
    "arr_unsorted = arr.reshape(5, 5)\n",
    "print(\"Unsorted 5x5 Array:\\n\", arr_unsorted)\n",
    "\n",
    "# Sort the array \n",
    "arr_sorted = np.sort(arr_unsorted, axis=None)\n",
    "print(\"Sorted 5x5 Array:\\n\", arr_sorted.reshape(5, 5))\n",
    "\n",
    "# Sort the array by column\n",
    "arr_sorted_col = np.sort(arr_unsorted, axis=0)\n",
    "print(\"Column Sorted 5x5 Array:\\n\", arr_sorted_col)\n",
    "\n",
    "# Sort the array by row\n",
    "arr_sorted_row = np.sort(arr_unsorted, axis=1)\n",
    "print(\"Row Sorted 5x5 Array:\\n\", arr_sorted_row)"
   ]
  },
  {
   "cell_type": "markdown",
   "id": "18567f3c",
   "metadata": {},
   "source": [
    "### Array Filtering"
   ]
  },
  {
   "cell_type": "code",
   "execution_count": 23,
   "id": "8f443cba",
   "metadata": {},
   "outputs": [
    {
     "name": "stdout",
     "output_type": "stream",
     "text": [
      "Original Array for Filtering:\n",
      " [10 15  3  7  8 23  1  5 12]\n",
      "Filtered Array (Elements >= 10):\n",
      " [10 15 23 12]\n",
      "Filtered Array (Even Elements):\n",
      " [10  8 12]\n",
      "Filtered Array (Odd Elements):\n",
      " [15  3  7 23  1  5]\n",
      "Filtered Array (Using Mask):\n",
      " [10 15 23 12]\n"
     ]
    }
   ],
   "source": [
    "arr = np.array([10, 15, 3, 7, 8, 23, 1, 5, 12])\n",
    "print(\"Original Array for Filtering:\\n\", arr)\n",
    "\n",
    "# Filter out all elements less than 10\n",
    "filtered = arr[arr >= 10]\n",
    "print(\"Filtered Array (Elements >= 10):\\n\", filtered)\n",
    "\n",
    "# Filter all even elements\n",
    "filtered_even = arr[arr % 2 == 0]\n",
    "print(\"Filtered Array (Even Elements):\\n\", filtered_even)\n",
    "\n",
    "# Filter all odd elements\n",
    "filtered_odd = arr[arr % 2 != 0]\n",
    "print(\"Filtered Array (Odd Elements):\\n\", filtered_odd)\n",
    "\n",
    "# Filter with Mask\n",
    "mask = arr >= 10\n",
    "filtered_masked = arr[mask]\n",
    "print(\"Filtered Array (Using Mask):\\n\", filtered_masked)"
   ]
  },
  {
   "cell_type": "markdown",
   "id": "1cc2ae5d",
   "metadata": {},
   "source": [
    "### Fancy Indexing vs np.where()"
   ]
  },
  {
   "cell_type": "code",
   "execution_count": 33,
   "id": "731a7268",
   "metadata": {},
   "outputs": [
    {
     "name": "stdout",
     "output_type": "stream",
     "text": [
      "Original Array for Filtering:\n",
      " [10 15  3  7  8 23  1  5 12]\n",
      "Filtered Array (Fancy Indexing):\n",
      " [10  3 23]\n",
      "Filtered Array (Using np.where):\n",
      " [10 15 23 12]\n",
      "Filtered Array (Using np.where for Even Elements):\n",
      " [10  8 12]\n",
      "If Else Condition Array:\n",
      " [30 45  6 21 24 69  2 10 36]\n"
     ]
    }
   ],
   "source": [
    "arr = np.array([10, 15, 3, 7, 8, 23, 1, 5, 12])\n",
    "print(\"Original Array for Filtering:\\n\", arr)\n",
    "\n",
    "# Fancy Indexing\n",
    "indices = [0, 2, 5]\n",
    "fancy_filtered = arr[indices]\n",
    "print(\"Filtered Array (Fancy Indexing):\\n\", fancy_filtered)\n",
    "\n",
    "# np.where()\n",
    "where_condition = np.where(arr >= 10)\n",
    "print(\"Filtered Array (Using np.where):\\n\", arr[where_condition])\n",
    "\n",
    "# np.where for even elements\n",
    "where_even = np.where(arr % 2 == 0)\n",
    "print(\"Filtered Array (Using np.where for Even Elements):\\n\", arr[where_even])\n",
    "\n",
    "# If Else Condition array\n",
    "conditionArr = np.where(arr > 5, arr*3, arr*2)\n",
    "print(\"If Else Condition Array:\\n\", conditionArr)"
   ]
  },
  {
   "cell_type": "markdown",
   "id": "b7ed8bc0",
   "metadata": {},
   "source": [
    "### Add, Remove or Merging array"
   ]
  },
  {
   "cell_type": "code",
   "execution_count": 49,
   "id": "85032811",
   "metadata": {},
   "outputs": [
    {
     "name": "stdout",
     "output_type": "stream",
     "text": [
      "First Array for Arithmetic Operations:\n",
      " [10 15  3  7  8 23  1  5 12]\n",
      "Second Array for Arithmetic Operations:\n",
      " [1 2 3 4 5 6 7 8 9]\n",
      "Merged Array:\n",
      " [10 15  3  7  8 23  1  5 12  1  2  3  4  5  6  7  8  9]\n",
      "Array after Addition:\n",
      " [15 20  8 12 13 28  6 10 17]\n",
      "Array after Subtraction:\n",
      " [ 5 10 -2  2  3 18 -4  0  7]\n",
      "Array after Multiplication:\n",
      " [ 50  75  15  35  40 115   5  25  60]\n",
      "Array after Division:\n",
      " [2.  3.  0.6 1.4 1.6 4.6 0.2 1.  2.4]\n",
      "Array after Deletion:\n",
      " [15  3  7  8 23  1  5 12]\n",
      "Array after Vertical Stacking:\n",
      " [[10 15  3  7  8 23  1  5 12]\n",
      " [ 1  2  3  4  5  6  7  8  9]]\n",
      "Array after Horizontal Stacking:\n",
      " [10 15  3  7  8 23  1  5 12  1  2  3  4  5  6  7  8  9]\n"
     ]
    }
   ],
   "source": [
    "arr1 = np.array([10, 15, 3, 7, 8, 23, 1, 5, 12])\n",
    "arr2 = np.array([1, 2, 3, 4, 5, 6, 7, 8, 9])\n",
    "print(\"First Array for Arithmetic Operations:\\n\", arr1)\n",
    "print(\"Second Array for Arithmetic Operations:\\n\", arr2)\n",
    "\n",
    "# Merging\n",
    "merged_array = np.concatenate((arr1, arr2))\n",
    "print(\"Merged Array:\\n\", merged_array)\n",
    "\n",
    "# Adding\n",
    "added_array = arr1 + 5\n",
    "print(\"Array after Addition:\\n\", added_array)\n",
    "\n",
    "# Subtracting\n",
    "subtracted_array = arr1 - 5\n",
    "print(\"Array after Subtraction:\\n\", subtracted_array)\n",
    "\n",
    "# Multiplying\n",
    "multiplied_array = arr1 * 5\n",
    "print(\"Array after Multiplication:\\n\", multiplied_array)\n",
    "\n",
    "# Dividing\n",
    "divided_array = arr1 / 5\n",
    "print(\"Array after Division:\\n\", divided_array)\n",
    "\n",
    "# Deleting\n",
    "# Deleting the first element\n",
    "deleted_array = np.delete(arr1, 0)\n",
    "print(\"Array after Deletion:\\n\", deleted_array)\n",
    "\n",
    "# Vstack\n",
    "# Vertical stacking of arrays along rows\n",
    "vstacked_array = np.vstack((arr1, arr2))\n",
    "print(\"Array after Vertical Stacking:\\n\", vstacked_array)\n",
    "\n",
    "# Hstack\n",
    "# Horizontal stacking of arrays along columns\n",
    "hstacked_array = np.hstack((arr1, arr2))\n",
    "print(\"Array after Horizontal Stacking:\\n\", hstacked_array)\n"
   ]
  },
  {
   "cell_type": "markdown",
   "id": "68d2ba2d",
   "metadata": {},
   "source": [
    "### Array Compatibility Check"
   ]
  },
  {
   "cell_type": "code",
   "execution_count": 46,
   "id": "55ce48fb",
   "metadata": {},
   "outputs": [
    {
     "name": "stdout",
     "output_type": "stream",
     "text": [
      "First Array Shape: (9,)\n",
      "Second Array Shape: (9,)\n",
      "Array Compatibility Check: True\n",
      "First Array 2D Shape: (3, 3)\n",
      "Second Array 2D Shape: (3, 3)\n",
      "Array Compatibility Check: True\n"
     ]
    }
   ],
   "source": [
    "arr1 = np.array([10, 15, 3, 7, 8, 23, 1, 5, 12])\n",
    "arr2 = np.array([1, 2, 3, 4, 5, 6, 7, 8, 9])\n",
    "\n",
    "arr1_shape = arr1.shape\n",
    "arr2_shape = arr2.shape\n",
    "\n",
    "print(\"First Array Shape:\", arr1_shape)\n",
    "print(\"Second Array Shape:\", arr2_shape)\n",
    "print(\"Array Compatibility Check:\", arr1_shape == arr2_shape)\n",
    "\n",
    "# with Multi-dimensional Arrays\n",
    "arr1_2d = arr1.reshape(3, 3)\n",
    "arr2_2d = arr2.reshape(3, 3)\n",
    "\n",
    "arr1_2d_shape = arr1_2d.shape\n",
    "arr2_2d_shape = arr2_2d.shape\n",
    "\n",
    "print(\"First Array 2D Shape:\", arr1_2d_shape)\n",
    "print(\"Second Array 2D Shape:\", arr2_2d_shape)\n",
    "print(\"Array Compatibility Check:\", arr1_2d_shape == arr2_2d_shape)\n"
   ]
  },
  {
   "cell_type": "markdown",
   "id": "0d47f5d8",
   "metadata": {},
   "source": [
    "### Some Practical Examples on Numpy arrays"
   ]
  },
  {
   "cell_type": "code",
   "execution_count": 20,
   "id": "8256fa9a",
   "metadata": {},
   "outputs": [
    {
     "name": "stdout",
     "output_type": "stream",
     "text": [
      "==== Zomato sales analysis ==== \n",
      "\n",
      " Sales data shape (5, 5)\n",
      "\n",
      " Sample data for 1st 3 restaurants:  [[     1 150000 180000 220000 250000]\n",
      " [     2 120000 140000 160000 190000]\n",
      " [     3 200000 230000 260000 300000]]\n"
     ]
    }
   ],
   "source": [
    "# Data structure: [restaurant_id, 2021, 2022, 2023, 2024]\n",
    "sales_data = np.array([\n",
    "    [1, 150000, 180000, 220000, 250000],  # Paradise Biryani\n",
    "    [2, 120000, 140000, 160000, 190000],  # Beijing Bites\n",
    "    [3, 200000, 230000, 260000, 300000],  # Pizza Hub\n",
    "    [4, 180000, 210000, 240000, 270000],  # Burger Point\n",
    "    [5, 160000, 185000, 205000, 230000]   # Chai Point\n",
    "])\n",
    "\n",
    "print(\"==== Zomato sales analysis ==== \")\n",
    "print(\"\\n Sales data shape\", sales_data.shape)\n",
    "print(\"\\n Sample data for 1st 3 restaurants: \", sales_data[:3])\n"
   ]
  },
  {
   "cell_type": "code",
   "execution_count": 21,
   "id": "ba5e78cb",
   "metadata": {},
   "outputs": [
    {
     "name": "stdout",
     "output_type": "stream",
     "text": [
      "[     15  810000  945000 1085000 1240000]\n",
      "[ 810000  945000 1085000 1240000]\n",
      "[150000 120000 200000 180000 160000]\n",
      "[200000 230000 260000 300000]\n",
      "[200000. 152500. 247500. 225000. 195000.]\n"
     ]
    }
   ],
   "source": [
    "# total sales per year\n",
    "# Axis 0: vertical (down the rows)\n",
    "print(np.sum(sales_data, axis=0))\n",
    "\n",
    "# Yearly total sales removing restaurant IDs\n",
    "yearly_total = np.sum(sales_data[:, 1:], axis=0)\n",
    "print(yearly_total)\n",
    "\n",
    "# Minimum sales per restaurant\n",
    "min_sales = np.min(sales_data[:, 1:], axis=1)\n",
    "print(min_sales)\n",
    "\n",
    "# Maximum sales per year\n",
    "max_sales = np.max(sales_data[:, 1:], axis=0)\n",
    "print(max_sales)\n",
    "\n",
    "# Average sales per restautant\n",
    "avg_sales = np.mean(sales_data[:, 1:], axis=1)\n",
    "print(avg_sales)"
   ]
  },
  {
   "cell_type": "code",
   "execution_count": null,
   "id": "faeff145",
   "metadata": {},
   "outputs": [
    {
     "name": "stdout",
     "output_type": "stream",
     "text": [
      "[[150000 330000 550000 800000]\n",
      " [120000 260000 420000 610000]\n",
      " [200000 430000 690000 990000]\n",
      " [180000 390000 630000 900000]\n",
      " [160000 345000 550000 780000]]\n"
     ]
    },
    {
     "data": {
      "image/png": "[encoded data removed]",
      "text/plain": [
       "<Figure size 800x600 with 1 Axes>"
      ]
     },
     "metadata": {},
     "output_type": "display_data"
    }
   ],
   "source": [
    "# Calculate cumulative sales and plot using Matplotlib\n",
    "# Calculating cumulative sales row wise per restaurant excluding restaurant IDs\n",
    "cumsum = np.cumsum(sales_data[:, 1:], axis=1)\n",
    "print(cumsum)\n",
    "\n",
    "plt.figure(figsize=(8, 6))\n",
    "plt.plot(np.mean(cumsum, axis=0))\n",
    "plt.title(\"Average cumulative sales accross all restaurant \")\n",
    "plt.xlabel(\"Years\")\n",
    "plt.ylabel(\"Sales\")\n",
    "plt.grid(True)\n",
    "plt.show()"
   ]
  },
  {
   "cell_type": "code",
   "execution_count": 33,
   "id": "307f5b95",
   "metadata": {},
   "outputs": [
    {
     "name": "stdout",
     "output_type": "stream",
     "text": [
      "Vectorized Upper ['BIRYANI' 'CHINESE' 'PIZZA' 'BURGER' 'CAFE']\n"
     ]
    }
   ],
   "source": [
    "# Vectorized string operations\n",
    "# Can apply any string function element-wise using np.vectorize\n",
    "restaurant_types = np.array(['biryani', 'chinese', 'pizza', 'burger', 'cafe'])\n",
    "vectorized_upper = np.vectorize(str.upper)\n",
    "print(\"Vectorized Upper\", vectorized_upper(restaurant_types))"
   ]
  },
  {
   "cell_type": "code",
   "execution_count": 6,
   "id": "162b2070",
   "metadata": {},
   "outputs": [
    {
     "name": "stdout",
     "output_type": "stream",
     "text": [
      "[[12500.         15000.         18333.33333333 20833.33333333]\n",
      " [10000.         11666.66666667 13333.33333333 15833.33333333]\n",
      " [16666.66666667 19166.66666667 21666.66666667 25000.        ]\n",
      " [15000.         17500.         20000.         22500.        ]\n",
      " [13333.33333333 15416.66666667 17083.33333333 19166.66666667]]\n"
     ]
    }
   ],
   "source": [
    "# Calculate monthly average sales\n",
    "# Data structure: [restaurant_id, 2021, 2022, 2023, 2024]\n",
    "sales_data = np.array([\n",
    "    [1, 150000, 180000, 220000, 250000],  # Paradise Biryani\n",
    "    [2, 120000, 140000, 160000, 190000],  # Beijing Bites\n",
    "    [3, 200000, 230000, 260000, 300000],  # Pizza Hub\n",
    "    [4, 180000, 210000, 240000, 270000],  # Burger Point\n",
    "    [5, 160000, 185000, 205000, 230000]   # Chai Point\n",
    "])\n",
    "\n",
    "# Can apply any mathematical operation element-wise directly no vectorization needed\n",
    "monthly_avg = sales_data[:, 1:] / 12\n",
    "print(monthly_avg)"
   ]
  },
  {
   "cell_type": "code",
   "execution_count": 35,
   "id": "35a8e7b4",
   "metadata": {},
   "outputs": [
    {
     "name": "stdout",
     "output_type": "stream",
     "text": [
      "Vector addition:  [ 7  9 11 13 15]\n",
      "\n",
      " Multiplication vector [ 6 14 24 36 50]\n",
      "\n",
      "Dot Product 130\n",
      "0.26554161733900966\n",
      "\n",
      " Cross Product [-3  6 -3]\n"
     ]
    }
   ],
   "source": [
    "vector1 = np.array([1, 2, 3, 4, 5])\n",
    "vector2 = np.array([6, 7, 8, 9, 10])\n",
    "\n",
    "print(\"Vector addition: \", vector1 + vector2)\n",
    "print(\"\\n Multiplication vector\", vector1 * vector2)\n",
    "\n",
    "# Dot Product Formula: A ⋅ B = a1​b1​+a2​b2​+a3​b3​\n",
    "print(\"\\nDot Product\", np.dot(vector1, vector2))\n",
    "\n",
    "# Angle between two vectors\n",
    "angle = np.arccos(np.dot(vector1, vector2) / (np.linalg.norm(vector1) * np.linalg.norm(vector2)))\n",
    "print(angle)\n",
    "\n",
    "# Cross product of two vectors\n",
    "# Cross product is only defined for 3-dimensional vectors.\n",
    "# Cross product formula: A × B = (a2​b3​−a3​b2​,a3​b1​−a1​b3​,a1​b2​−a2​b1​)\n",
    "vector3 = np.array([1, 2, 3])\n",
    "vector4 = np.array([4, 5, 6])\n",
    "print(\"\\n Cross Product\", np.cross(vector3, vector4))"
   ]
  },
  {
   "cell_type": "markdown",
   "id": "b82196a9",
   "metadata": {},
   "source": [
    "### Saving and loading Numpy arrays"
   ]
  },
  {
   "cell_type": "code",
   "execution_count": 5,
   "id": "4a591bb7",
   "metadata": {},
   "outputs": [],
   "source": [
    "# Save the arrays to .npy files\n",
    "array1 = np.array([[1, 2, 3], [4, 5, 6]])\n",
    "array2 = np.random.rand(3, 3)\n",
    "array3 = np.zeros((4, 4))\n",
    "\n",
    "np.save('array1.npy', array1)\n",
    "np.save('array2.npy', array2)\n",
    "np.save('array3.npy', array3)\n"
   ]
  },
  {
   "cell_type": "code",
   "execution_count": 8,
   "id": "f357b37e",
   "metadata": {},
   "outputs": [
    {
     "name": "stdout",
     "output_type": "stream",
     "text": [
      "[[1 2 3]\n",
      " [4 5 6]]\n",
      "[[0.60010796 0.82489254 0.34712096]\n",
      " [0.13326323 0.12980701 0.85826113]\n",
      " [0.84646856 0.06841165 0.61398606]]\n",
      "[[0. 0. 0. 0.]\n",
      " [0. 0. 0. 0.]\n",
      " [0. 0. 0. 0.]\n",
      " [0. 0. 0. 0.]]\n"
     ]
    }
   ],
   "source": [
    "# Load the arrays from .npy files\n",
    "array1 = np.load('array1.npy')\n",
    "array2 = np.load('array2.npy')\n",
    "array3 = np.load('array3.npy')\n",
    "print(array1)\n",
    "print(array2)\n",
    "print(array3)\n"
   ]
  },
  {
   "cell_type": "code",
   "execution_count": 13,
   "id": "ce4ac161",
   "metadata": {},
   "outputs": [
    {
     "data": {
      "image/png": "[encoded data removed]",
      "text/plain": [
       "<Figure size 1000x500 with 2 Axes>"
      ]
     },
     "metadata": {},
     "output_type": "display_data"
    }
   ],
   "source": [
    "try:\n",
    "    logo = np.load('numpy-logo.npy')\n",
    "    #print(logo)\n",
    "\n",
    "    # Display\n",
    "    plt.figure(figsize=(10, 5))\n",
    "    plt.subplot(121)\n",
    "    plt.imshow(logo)\n",
    "    plt.title(\"Numpy logo\")\n",
    "    plt.grid(False)\n",
    "\n",
    "    dark_logo = 1 - logo\n",
    "\n",
    "    plt.subplot(122)\n",
    "    plt.imshow(dark_logo)\n",
    "    plt.title(\"Numpy Dark logo\")\n",
    "    plt.grid(False)\n",
    "\n",
    "except FileNotFoundError:\n",
    "    print(\"numpy logo file not found\")"
   ]
  }
 ],
 "metadata": {
  "kernelspec": {
   "display_name": "venv",
   "language": "python",
   "name": "python3"
  },
  "language_info": {
   "codemirror_mode": {
    "name": "ipython",
    "version": 3
   },
   "file_extension": ".py",
   "mimetype": "text/x-python",
   "name": "python",
   "nbconvert_exporter": "python",
   "pygments_lexer": "ipython3",
   "version": "3.13.5"
  }
 },
 "nbformat": 4,
 "nbformat_minor": 5
}
